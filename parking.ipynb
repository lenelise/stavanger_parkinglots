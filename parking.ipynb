{
 "cells": [
  {
   "cell_type": "markdown",
   "id": "836cc449",
   "metadata": {},
   "source": [
    "# Introduction\n",
    "\n",
    "This project came to life when I, out of the blue, hit a serious case of certification fatigue. I decided that it was time to experiment, and play around a bit, focusing on having fun and not on completing certifications and courses. \n",
    "\n",
    "After searhing around for a good dataset, I ended up with these two data sets from Stavanger. They are open for the public. They contain data on the hourly coverage/usage of different parking spots in Stavanger. There is a datapoint for each our every day for each parking lot. One dataset contains the data from 2017, the other from 2018. "
   ]
  },
  {
   "cell_type": "markdown",
   "id": "d0951de1",
   "metadata": {},
   "source": [
    "## Preliminaries "
   ]
  },
  {
   "cell_type": "code",
   "execution_count": 1,
   "id": "38f5f033",
   "metadata": {},
   "outputs": [],
   "source": [
    "import pandas as pd\n",
    "import numpy as np\n",
    "import matplotlib.pyplot as plt\n",
    "import plotly.express as px\n",
    "\n",
    "parkinglots = ['Siddis', 'Forum', 'Jernbanen', 'Posten', 'Jorenholmen', 'St. Olav', 'Valberget', 'Kyrre', 'Parketten']\n",
    "colors = ['teal', 'green', 'red', 'blue', 'red', 'purple', 'orange', 'yellow', 'pink']\n",
    "\n",
    "\n",
    "def fix_date(date):\n",
    "    '''\n",
    "    Helper function that reformats the Dates to a format that can then be converted to a datetime object\n",
    "    '''\n",
    "    day = str(date[0])\n",
    "    month= str(date[1])\n",
    "    year = '20' + str(date[2])\n",
    "\n",
    "    #English-ify the months:\n",
    "    \n",
    "    if month == 'mai':\n",
    "        month = 'may'\n",
    "    elif month == 'okt':\n",
    "        month = 'oct'\n",
    "    elif month == 'des':\n",
    "        month = 'dec'\n",
    "    return year + '-' + month + '-' + day"
   ]
  },
  {
   "cell_type": "markdown",
   "id": "c69106e1",
   "metadata": {},
   "source": [
    "## 2018: reading and cleaning"
   ]
  },
  {
   "cell_type": "code",
   "execution_count": 3,
   "id": "88e70bf5",
   "metadata": {},
   "outputs": [
    {
     "data": {
      "text/html": [
       "<div>\n",
       "<style scoped>\n",
       "    .dataframe tbody tr th:only-of-type {\n",
       "        vertical-align: middle;\n",
       "    }\n",
       "\n",
       "    .dataframe tbody tr th {\n",
       "        vertical-align: top;\n",
       "    }\n",
       "\n",
       "    .dataframe thead th {\n",
       "        text-align: right;\n",
       "    }\n",
       "</style>\n",
       "<table border=\"1\" class=\"dataframe\">\n",
       "  <thead>\n",
       "    <tr style=\"text-align: right;\">\n",
       "      <th></th>\n",
       "      <th>Dato</th>\n",
       "      <th>Tid</th>\n",
       "      <th>Siddis</th>\n",
       "      <th>Forum</th>\n",
       "      <th>Jernbanen</th>\n",
       "      <th>Posten</th>\n",
       "      <th>Jorenholmen</th>\n",
       "      <th>St. Olav</th>\n",
       "      <th>Valberget</th>\n",
       "      <th>Kyrre</th>\n",
       "      <th>Parketten</th>\n",
       "    </tr>\n",
       "  </thead>\n",
       "  <tbody>\n",
       "    <tr>\n",
       "      <th>0</th>\n",
       "      <td>1-jan-18</td>\n",
       "      <td>0:00</td>\n",
       "      <td>3,0</td>\n",
       "      <td>0,0</td>\n",
       "      <td>19,0</td>\n",
       "      <td>11,0</td>\n",
       "      <td>17,0</td>\n",
       "      <td>22,0</td>\n",
       "      <td>12,0</td>\n",
       "      <td>14,0</td>\n",
       "      <td>13,0</td>\n",
       "    </tr>\n",
       "    <tr>\n",
       "      <th>1</th>\n",
       "      <td>1-jan-18</td>\n",
       "      <td>1:00</td>\n",
       "      <td>3,0</td>\n",
       "      <td>0,0</td>\n",
       "      <td>18,0</td>\n",
       "      <td>5,0</td>\n",
       "      <td>14,0</td>\n",
       "      <td>21,0</td>\n",
       "      <td>10,0</td>\n",
       "      <td>15,0</td>\n",
       "      <td>13,0</td>\n",
       "    </tr>\n",
       "    <tr>\n",
       "      <th>2</th>\n",
       "      <td>1-jan-18</td>\n",
       "      <td>2:00</td>\n",
       "      <td>2,0</td>\n",
       "      <td>0,0</td>\n",
       "      <td>17,0</td>\n",
       "      <td>6,0</td>\n",
       "      <td>15,0</td>\n",
       "      <td>21,0</td>\n",
       "      <td>6,0</td>\n",
       "      <td>15,0</td>\n",
       "      <td>4,0</td>\n",
       "    </tr>\n",
       "    <tr>\n",
       "      <th>3</th>\n",
       "      <td>1-jan-18</td>\n",
       "      <td>3:00</td>\n",
       "      <td>2,0</td>\n",
       "      <td>0,0</td>\n",
       "      <td>17,0</td>\n",
       "      <td>5,0</td>\n",
       "      <td>15,0</td>\n",
       "      <td>21,0</td>\n",
       "      <td>6,0</td>\n",
       "      <td>15,0</td>\n",
       "      <td>3,0</td>\n",
       "    </tr>\n",
       "    <tr>\n",
       "      <th>4</th>\n",
       "      <td>1-jan-18</td>\n",
       "      <td>4:00</td>\n",
       "      <td>2,0</td>\n",
       "      <td>0,0</td>\n",
       "      <td>17,0</td>\n",
       "      <td>5,0</td>\n",
       "      <td>15,0</td>\n",
       "      <td>21,0</td>\n",
       "      <td>6,0</td>\n",
       "      <td>15,0</td>\n",
       "      <td>3,0</td>\n",
       "    </tr>\n",
       "  </tbody>\n",
       "</table>\n",
       "</div>"
      ],
      "text/plain": [
       "       Dato   Tid Siddis Forum Jernbanen Posten Jorenholmen St. Olav  \\\n",
       "0  1-jan-18  0:00    3,0   0,0      19,0   11,0        17,0     22,0   \n",
       "1  1-jan-18  1:00    3,0   0,0      18,0    5,0        14,0     21,0   \n",
       "2  1-jan-18  2:00    2,0   0,0      17,0    6,0        15,0     21,0   \n",
       "3  1-jan-18  3:00    2,0   0,0      17,0    5,0        15,0     21,0   \n",
       "4  1-jan-18  4:00    2,0   0,0      17,0    5,0        15,0     21,0   \n",
       "\n",
       "  Valberget Kyrre Parketten  \n",
       "0      12,0  14,0      13,0  \n",
       "1      10,0  15,0      13,0  \n",
       "2       6,0  15,0       4,0  \n",
       "3       6,0  15,0       3,0  \n",
       "4       6,0  15,0       3,0  "
      ]
     },
     "execution_count": 3,
     "metadata": {},
     "output_type": "execute_result"
    }
   ],
   "source": [
    "parkering2018 = pd.read_csv('parkering2018.csv')\n",
    "parkering2018.head()"
   ]
  },
  {
   "cell_type": "code",
   "execution_count": null,
   "id": "1ba7cece",
   "metadata": {},
   "outputs": [
    {
     "name": "stderr",
     "output_type": "stream",
     "text": [
      "C:\\Users\\lenelise\\AppData\\Local\\Temp\\ipykernel_36804\\482748386.py:5: UserWarning:\n",
      "\n",
      "Could not infer format, so each element will be parsed individually, falling back to `dateutil`. To ensure parsing is consistent and as-expected, please specify a format.\n",
      "\n"
     ]
    },
    {
     "data": {
      "text/html": [
       "<div>\n",
       "<style scoped>\n",
       "    .dataframe tbody tr th:only-of-type {\n",
       "        vertical-align: middle;\n",
       "    }\n",
       "\n",
       "    .dataframe tbody tr th {\n",
       "        vertical-align: top;\n",
       "    }\n",
       "\n",
       "    .dataframe thead th {\n",
       "        text-align: right;\n",
       "    }\n",
       "</style>\n",
       "<table border=\"1\" class=\"dataframe\">\n",
       "  <thead>\n",
       "    <tr style=\"text-align: right;\">\n",
       "      <th></th>\n",
       "      <th>Siddis</th>\n",
       "      <th>Forum</th>\n",
       "      <th>Jernbanen</th>\n",
       "      <th>Posten</th>\n",
       "      <th>Jorenholmen</th>\n",
       "      <th>St. Olav</th>\n",
       "      <th>Valberget</th>\n",
       "      <th>Kyrre</th>\n",
       "      <th>Parketten</th>\n",
       "      <th>Tidspunkt</th>\n",
       "    </tr>\n",
       "  </thead>\n",
       "  <tbody>\n",
       "    <tr>\n",
       "      <th>count</th>\n",
       "      <td>7752.000000</td>\n",
       "      <td>7752.000000</td>\n",
       "      <td>7752.000000</td>\n",
       "      <td>7752.000000</td>\n",
       "      <td>7752.000000</td>\n",
       "      <td>7752.000000</td>\n",
       "      <td>7752.000000</td>\n",
       "      <td>7752.000000</td>\n",
       "      <td>7752.000000</td>\n",
       "      <td>7752</td>\n",
       "    </tr>\n",
       "    <tr>\n",
       "      <th>mean</th>\n",
       "      <td>0.157153</td>\n",
       "      <td>0.175481</td>\n",
       "      <td>0.239265</td>\n",
       "      <td>0.336419</td>\n",
       "      <td>0.310633</td>\n",
       "      <td>0.364702</td>\n",
       "      <td>0.381303</td>\n",
       "      <td>0.257722</td>\n",
       "      <td>0.186117</td>\n",
       "      <td>2018-06-11 22:53:09.938080256</td>\n",
       "    </tr>\n",
       "    <tr>\n",
       "      <th>min</th>\n",
       "      <td>0.000000</td>\n",
       "      <td>0.000000</td>\n",
       "      <td>0.000000</td>\n",
       "      <td>0.000000</td>\n",
       "      <td>0.050000</td>\n",
       "      <td>0.000000</td>\n",
       "      <td>0.000000</td>\n",
       "      <td>0.020000</td>\n",
       "      <td>0.000000</td>\n",
       "      <td>2018-01-01 00:00:00</td>\n",
       "    </tr>\n",
       "    <tr>\n",
       "      <th>25%</th>\n",
       "      <td>0.060000</td>\n",
       "      <td>0.010000</td>\n",
       "      <td>0.110000</td>\n",
       "      <td>0.050000</td>\n",
       "      <td>0.160000</td>\n",
       "      <td>0.190000</td>\n",
       "      <td>0.200000</td>\n",
       "      <td>0.100000</td>\n",
       "      <td>0.040000</td>\n",
       "      <td>2018-03-23 06:45:00</td>\n",
       "    </tr>\n",
       "    <tr>\n",
       "      <th>50%</th>\n",
       "      <td>0.110000</td>\n",
       "      <td>0.090000</td>\n",
       "      <td>0.190000</td>\n",
       "      <td>0.240000</td>\n",
       "      <td>0.260000</td>\n",
       "      <td>0.320000</td>\n",
       "      <td>0.330000</td>\n",
       "      <td>0.190000</td>\n",
       "      <td>0.105000</td>\n",
       "      <td>2018-06-12 01:30:00</td>\n",
       "    </tr>\n",
       "    <tr>\n",
       "      <th>75%</th>\n",
       "      <td>0.190000</td>\n",
       "      <td>0.220000</td>\n",
       "      <td>0.350000</td>\n",
       "      <td>0.590000</td>\n",
       "      <td>0.410000</td>\n",
       "      <td>0.520000</td>\n",
       "      <td>0.500000</td>\n",
       "      <td>0.350000</td>\n",
       "      <td>0.260000</td>\n",
       "      <td>2018-08-31 19:15:00</td>\n",
       "    </tr>\n",
       "    <tr>\n",
       "      <th>max</th>\n",
       "      <td>1.000000</td>\n",
       "      <td>1.000000</td>\n",
       "      <td>1.000000</td>\n",
       "      <td>1.000000</td>\n",
       "      <td>1.000000</td>\n",
       "      <td>1.000000</td>\n",
       "      <td>1.000000</td>\n",
       "      <td>1.000000</td>\n",
       "      <td>1.000000</td>\n",
       "      <td>2018-11-20 12:00:00</td>\n",
       "    </tr>\n",
       "    <tr>\n",
       "      <th>std</th>\n",
       "      <td>0.162794</td>\n",
       "      <td>0.235740</td>\n",
       "      <td>0.182612</td>\n",
       "      <td>0.317887</td>\n",
       "      <td>0.194967</td>\n",
       "      <td>0.202108</td>\n",
       "      <td>0.239830</td>\n",
       "      <td>0.207766</td>\n",
       "      <td>0.199809</td>\n",
       "      <td>NaN</td>\n",
       "    </tr>\n",
       "  </tbody>\n",
       "</table>\n",
       "</div>"
      ],
      "text/plain": [
       "            Siddis        Forum    Jernbanen       Posten  Jorenholmen  \\\n",
       "count  7752.000000  7752.000000  7752.000000  7752.000000  7752.000000   \n",
       "mean      0.157153     0.175481     0.239265     0.336419     0.310633   \n",
       "min       0.000000     0.000000     0.000000     0.000000     0.050000   \n",
       "25%       0.060000     0.010000     0.110000     0.050000     0.160000   \n",
       "50%       0.110000     0.090000     0.190000     0.240000     0.260000   \n",
       "75%       0.190000     0.220000     0.350000     0.590000     0.410000   \n",
       "max       1.000000     1.000000     1.000000     1.000000     1.000000   \n",
       "std       0.162794     0.235740     0.182612     0.317887     0.194967   \n",
       "\n",
       "          St. Olav    Valberget        Kyrre    Parketten  \\\n",
       "count  7752.000000  7752.000000  7752.000000  7752.000000   \n",
       "mean      0.364702     0.381303     0.257722     0.186117   \n",
       "min       0.000000     0.000000     0.020000     0.000000   \n",
       "25%       0.190000     0.200000     0.100000     0.040000   \n",
       "50%       0.320000     0.330000     0.190000     0.105000   \n",
       "75%       0.520000     0.500000     0.350000     0.260000   \n",
       "max       1.000000     1.000000     1.000000     1.000000   \n",
       "std       0.202108     0.239830     0.207766     0.199809   \n",
       "\n",
       "                           Tidspunkt  \n",
       "count                           7752  \n",
       "mean   2018-06-11 22:53:09.938080256  \n",
       "min              2018-01-01 00:00:00  \n",
       "25%              2018-03-23 06:45:00  \n",
       "50%              2018-06-12 01:30:00  \n",
       "75%              2018-08-31 19:15:00  \n",
       "max              2018-11-20 12:00:00  \n",
       "std                              NaN  "
      ]
     },
     "execution_count": 326,
     "metadata": {},
     "output_type": "execute_result"
    }
   ],
   "source": [
    "#Fixing the dates, and adding date+time in a seperate column as a datetime object\n",
    "\n",
    "parkering2018['Dato'] = parkering2018['Dato'].str.split('-')\n",
    "parkering2018['Tidspunkt'] = parkering2018['Dato'].apply(fix_date) + ' ' + parkering2018['Tid']\n",
    "parkering2018['Tidspunkt'] = pd.to_datetime(parkering2018['Tidspunkt'])\n",
    "\n",
    "# Converting the numericals to ratios (floating numbers between 0 and 1)\n",
    "for lot in parkinglots:\n",
    "    parkering2018[lot] = parkering2018[lot].str.replace(',','.')\n",
    "    parkering2018[lot] = parkering2018[lot].astype('float32')\n",
    "    parkering2018[lot] = parkering2018[lot]/100\n",
    "\n",
    "#making sure we dont have any negative values\n",
    "parkering2018.describe()"
   ]
  },
  {
   "cell_type": "markdown",
   "id": "992d9c82",
   "metadata": {},
   "source": [
    "## 2017: reading and cleaning\n",
    "Mostly the same steps as for 2018. We uncovered one error in the dataset, which we needed to account for. It was the registration for Feb 15th 02:00, which was done at 02:01 instead. We replaced 02:01 woth 02:00, as the error caused issues down the line when we wanted to group the data on `Tid`."
   ]
  },
  {
   "cell_type": "code",
   "execution_count": null,
   "id": "670304c2",
   "metadata": {},
   "outputs": [
    {
     "name": "stdout",
     "output_type": "stream",
     "text": [
      "Dato           1\n",
      "Tid            1\n",
      "Siddis         1\n",
      "Forum          1\n",
      "Jernbanen      1\n",
      "Posten         1\n",
      "Jorenholmen    1\n",
      "St. Olav       1\n",
      "Valberget      1\n",
      "Kyrre          1\n",
      "Parketten      1\n",
      "dtype: int64\n"
     ]
    },
    {
     "data": {
      "text/html": [
       "<div>\n",
       "<style scoped>\n",
       "    .dataframe tbody tr th:only-of-type {\n",
       "        vertical-align: middle;\n",
       "    }\n",
       "\n",
       "    .dataframe tbody tr th {\n",
       "        vertical-align: top;\n",
       "    }\n",
       "\n",
       "    .dataframe thead th {\n",
       "        text-align: right;\n",
       "    }\n",
       "</style>\n",
       "<table border=\"1\" class=\"dataframe\">\n",
       "  <thead>\n",
       "    <tr style=\"text-align: right;\">\n",
       "      <th></th>\n",
       "      <th>Dato</th>\n",
       "      <th>Tid</th>\n",
       "      <th>Siddis</th>\n",
       "      <th>Forum</th>\n",
       "      <th>Jernbanen</th>\n",
       "      <th>Posten</th>\n",
       "      <th>Jorenholmen</th>\n",
       "      <th>St. Olav</th>\n",
       "      <th>Valberget</th>\n",
       "      <th>Kyrre</th>\n",
       "      <th>Parketten</th>\n",
       "    </tr>\n",
       "  </thead>\n",
       "  <tbody>\n",
       "    <tr>\n",
       "      <th>0</th>\n",
       "      <td>[1, jan, 17]</td>\n",
       "      <td>0:00</td>\n",
       "      <td>2,0</td>\n",
       "      <td>0,0</td>\n",
       "      <td>16,0</td>\n",
       "      <td>15,0</td>\n",
       "      <td>15,0</td>\n",
       "      <td>21,0</td>\n",
       "      <td>8,0</td>\n",
       "      <td>18,0</td>\n",
       "      <td>4,0</td>\n",
       "    </tr>\n",
       "    <tr>\n",
       "      <th>1</th>\n",
       "      <td>[1, jan, 17]</td>\n",
       "      <td>1:00</td>\n",
       "      <td>2,0</td>\n",
       "      <td>0,0</td>\n",
       "      <td>11,0</td>\n",
       "      <td>6,0</td>\n",
       "      <td>12,0</td>\n",
       "      <td>19,0</td>\n",
       "      <td>7,0</td>\n",
       "      <td>17,0</td>\n",
       "      <td>4,0</td>\n",
       "    </tr>\n",
       "    <tr>\n",
       "      <th>2</th>\n",
       "      <td>[1, jan, 17]</td>\n",
       "      <td>2:00</td>\n",
       "      <td>2,0</td>\n",
       "      <td>0,0</td>\n",
       "      <td>11,0</td>\n",
       "      <td>4,0</td>\n",
       "      <td>12,0</td>\n",
       "      <td>18,0</td>\n",
       "      <td>6,0</td>\n",
       "      <td>18,0</td>\n",
       "      <td>4,0</td>\n",
       "    </tr>\n",
       "    <tr>\n",
       "      <th>3</th>\n",
       "      <td>[1, jan, 17]</td>\n",
       "      <td>3:00</td>\n",
       "      <td>2,0</td>\n",
       "      <td>0,0</td>\n",
       "      <td>11,0</td>\n",
       "      <td>3,0</td>\n",
       "      <td>12,0</td>\n",
       "      <td>18,0</td>\n",
       "      <td>6,0</td>\n",
       "      <td>17,0</td>\n",
       "      <td>4,0</td>\n",
       "    </tr>\n",
       "    <tr>\n",
       "      <th>4</th>\n",
       "      <td>[1, jan, 17]</td>\n",
       "      <td>4:00</td>\n",
       "      <td>2,0</td>\n",
       "      <td>0,0</td>\n",
       "      <td>11,0</td>\n",
       "      <td>2,0</td>\n",
       "      <td>12,0</td>\n",
       "      <td>17,0</td>\n",
       "      <td>5,0</td>\n",
       "      <td>17,0</td>\n",
       "      <td>4,0</td>\n",
       "    </tr>\n",
       "  </tbody>\n",
       "</table>\n",
       "</div>"
      ],
      "text/plain": [
       "           Dato   Tid Siddis Forum Jernbanen Posten Jorenholmen St. Olav  \\\n",
       "0  [1, jan, 17]  0:00    2,0   0,0      16,0   15,0        15,0     21,0   \n",
       "1  [1, jan, 17]  1:00    2,0   0,0      11,0    6,0        12,0     19,0   \n",
       "2  [1, jan, 17]  2:00    2,0   0,0      11,0    4,0        12,0     18,0   \n",
       "3  [1, jan, 17]  3:00    2,0   0,0      11,0    3,0        12,0     18,0   \n",
       "4  [1, jan, 17]  4:00    2,0   0,0      11,0    2,0        12,0     17,0   \n",
       "\n",
       "  Valberget Kyrre Parketten  \n",
       "0       8,0  18,0       4,0  \n",
       "1       7,0  17,0       4,0  \n",
       "2       6,0  18,0       4,0  \n",
       "3       6,0  17,0       4,0  \n",
       "4       5,0  17,0       4,0  "
      ]
     },
     "execution_count": 327,
     "metadata": {},
     "output_type": "execute_result"
    }
   ],
   "source": [
    "parkering2017 = pd.read_csv('datasets/parkering2017.csv')\n",
    "parkering2017['Dato'] = parkering2017['Dato'].str.split('-')\n",
    "print(parkering2017.isna().sum())\n",
    "parkering2017 = parkering2017.dropna() #one row with pure NaN\n",
    "parkering2017.head()"
   ]
  },
  {
   "cell_type": "code",
   "execution_count": null,
   "id": "e4ea7819",
   "metadata": {},
   "outputs": [
    {
     "data": {
      "text/plain": [
       "array(['0:00', '1:00', '2:00', '3:00', '4:00', '5:00', '6:00', '7:00',\n",
       "       '8:00', '9:00', '10:00', '11:00', '12:00', '13:00', '14:00',\n",
       "       '15:00', '16:00', '17:00', '18:00', '19:00', '20:00', '21:00',\n",
       "       '22:00', '23:00'], dtype=object)"
      ]
     },
     "execution_count": 328,
     "metadata": {},
     "output_type": "execute_result"
    }
   ],
   "source": [
    "# # Feb 15th have a registration at 02:01 instead of 02:00\n",
    "parkering2017['Tid'] = parkering2017['Tid'].replace({\n",
    "    '2:01': '2:00'\n",
    "})\n",
    "\n",
    "parkering2017['Tid'].unique() #validating the fix"
   ]
  },
  {
   "cell_type": "code",
   "execution_count": null,
   "id": "e4dff68f",
   "metadata": {},
   "outputs": [
    {
     "name": "stderr",
     "output_type": "stream",
     "text": [
      "C:\\Users\\lenelise\\AppData\\Local\\Temp\\ipykernel_36804\\3159084622.py:2: UserWarning:\n",
      "\n",
      "Could not infer format, so each element will be parsed individually, falling back to `dateutil`. To ensure parsing is consistent and as-expected, please specify a format.\n",
      "\n"
     ]
    },
    {
     "data": {
      "text/html": [
       "<div>\n",
       "<style scoped>\n",
       "    .dataframe tbody tr th:only-of-type {\n",
       "        vertical-align: middle;\n",
       "    }\n",
       "\n",
       "    .dataframe tbody tr th {\n",
       "        vertical-align: top;\n",
       "    }\n",
       "\n",
       "    .dataframe thead th {\n",
       "        text-align: right;\n",
       "    }\n",
       "</style>\n",
       "<table border=\"1\" class=\"dataframe\">\n",
       "  <thead>\n",
       "    <tr style=\"text-align: right;\">\n",
       "      <th></th>\n",
       "      <th>Dato</th>\n",
       "      <th>Tid</th>\n",
       "      <th>Siddis</th>\n",
       "      <th>Forum</th>\n",
       "      <th>Jernbanen</th>\n",
       "      <th>Posten</th>\n",
       "      <th>Jorenholmen</th>\n",
       "      <th>St. Olav</th>\n",
       "      <th>Valberget</th>\n",
       "      <th>Kyrre</th>\n",
       "      <th>Parketten</th>\n",
       "      <th>Tidspunkt</th>\n",
       "    </tr>\n",
       "  </thead>\n",
       "  <tbody>\n",
       "    <tr>\n",
       "      <th>0</th>\n",
       "      <td>[1, jan, 17]</td>\n",
       "      <td>0:00</td>\n",
       "      <td>0.02</td>\n",
       "      <td>0.0</td>\n",
       "      <td>0.16</td>\n",
       "      <td>0.15</td>\n",
       "      <td>0.15</td>\n",
       "      <td>0.21</td>\n",
       "      <td>0.08</td>\n",
       "      <td>0.18</td>\n",
       "      <td>0.04</td>\n",
       "      <td>2017-01-01 00:00:00</td>\n",
       "    </tr>\n",
       "    <tr>\n",
       "      <th>1</th>\n",
       "      <td>[1, jan, 17]</td>\n",
       "      <td>1:00</td>\n",
       "      <td>0.02</td>\n",
       "      <td>0.0</td>\n",
       "      <td>0.11</td>\n",
       "      <td>0.06</td>\n",
       "      <td>0.12</td>\n",
       "      <td>0.19</td>\n",
       "      <td>0.07</td>\n",
       "      <td>0.17</td>\n",
       "      <td>0.04</td>\n",
       "      <td>2017-01-01 01:00:00</td>\n",
       "    </tr>\n",
       "    <tr>\n",
       "      <th>2</th>\n",
       "      <td>[1, jan, 17]</td>\n",
       "      <td>2:00</td>\n",
       "      <td>0.02</td>\n",
       "      <td>0.0</td>\n",
       "      <td>0.11</td>\n",
       "      <td>0.04</td>\n",
       "      <td>0.12</td>\n",
       "      <td>0.18</td>\n",
       "      <td>0.06</td>\n",
       "      <td>0.18</td>\n",
       "      <td>0.04</td>\n",
       "      <td>2017-01-01 02:00:00</td>\n",
       "    </tr>\n",
       "    <tr>\n",
       "      <th>3</th>\n",
       "      <td>[1, jan, 17]</td>\n",
       "      <td>3:00</td>\n",
       "      <td>0.02</td>\n",
       "      <td>0.0</td>\n",
       "      <td>0.11</td>\n",
       "      <td>0.03</td>\n",
       "      <td>0.12</td>\n",
       "      <td>0.18</td>\n",
       "      <td>0.06</td>\n",
       "      <td>0.17</td>\n",
       "      <td>0.04</td>\n",
       "      <td>2017-01-01 03:00:00</td>\n",
       "    </tr>\n",
       "    <tr>\n",
       "      <th>4</th>\n",
       "      <td>[1, jan, 17]</td>\n",
       "      <td>4:00</td>\n",
       "      <td>0.02</td>\n",
       "      <td>0.0</td>\n",
       "      <td>0.11</td>\n",
       "      <td>0.02</td>\n",
       "      <td>0.12</td>\n",
       "      <td>0.17</td>\n",
       "      <td>0.05</td>\n",
       "      <td>0.17</td>\n",
       "      <td>0.04</td>\n",
       "      <td>2017-01-01 04:00:00</td>\n",
       "    </tr>\n",
       "  </tbody>\n",
       "</table>\n",
       "</div>"
      ],
      "text/plain": [
       "           Dato   Tid  Siddis  Forum  Jernbanen  Posten  Jorenholmen  \\\n",
       "0  [1, jan, 17]  0:00    0.02    0.0       0.16    0.15         0.15   \n",
       "1  [1, jan, 17]  1:00    0.02    0.0       0.11    0.06         0.12   \n",
       "2  [1, jan, 17]  2:00    0.02    0.0       0.11    0.04         0.12   \n",
       "3  [1, jan, 17]  3:00    0.02    0.0       0.11    0.03         0.12   \n",
       "4  [1, jan, 17]  4:00    0.02    0.0       0.11    0.02         0.12   \n",
       "\n",
       "   St. Olav  Valberget  Kyrre  Parketten           Tidspunkt  \n",
       "0      0.21       0.08   0.18       0.04 2017-01-01 00:00:00  \n",
       "1      0.19       0.07   0.17       0.04 2017-01-01 01:00:00  \n",
       "2      0.18       0.06   0.18       0.04 2017-01-01 02:00:00  \n",
       "3      0.18       0.06   0.17       0.04 2017-01-01 03:00:00  \n",
       "4      0.17       0.05   0.17       0.04 2017-01-01 04:00:00  "
      ]
     },
     "execution_count": 329,
     "metadata": {},
     "output_type": "execute_result"
    }
   ],
   "source": [
    "parkering2017['Tidspunkt'] = parkering2017['Dato'].apply(fix_date) + ' ' + parkering2017['Tid']\n",
    "parkering2017['Tidspunkt'] = pd.to_datetime(parkering2017['Tidspunkt'])\n",
    "\n",
    "for lot in parkinglots:\n",
    "    parkering2017[lot] = parkering2017[lot].str.replace(',','.')\n",
    "    parkering2017[lot] = parkering2017[lot].astype('float32')\n",
    "    parkering2017[lot] = parkering2017[lot]/100\n",
    "\n",
    "parkering2017.head()"
   ]
  },
  {
   "cell_type": "markdown",
   "id": "b5ac99bd",
   "metadata": {},
   "source": [
    "# Visualization"
   ]
  },
  {
   "cell_type": "markdown",
   "id": "a616e16d",
   "metadata": {},
   "source": [
    "## Hourly averages 2018"
   ]
  },
  {
   "cell_type": "code",
   "execution_count": null,
   "id": "99d3552f",
   "metadata": {},
   "outputs": [],
   "source": [
    "#Hourly averages for each lot\n",
    "parkinglots_avg_2017 = [] # average coverage for each parking lot in 2017\n",
    "parkinglots_avg_2018 = [] # average coverage for each parking lot in 2018\n",
    "\n",
    "for lot in parkinglots: \n",
    "    parkinglots_avg_2017.append(parkering2017.groupby('Tid')[lot].mean())\n",
    "    parkinglots_avg_2018.append(parkering2018.groupby('Tid')[lot].mean())"
   ]
  },
  {
   "cell_type": "code",
   "execution_count": null,
   "id": "45eb18fd",
   "metadata": {},
   "outputs": [],
   "source": [
    "# parkering2017.groupby('Tid')[lot].mean()"
   ]
  },
  {
   "cell_type": "code",
   "execution_count": null,
   "id": "1b8d568f",
   "metadata": {},
   "outputs": [
    {
     "data": {
      "image/png": "[encoded data removed]",
      "text/plain": [
       "<Figure size 600x600 with 1 Axes>"
      ]
     },
     "metadata": {},
     "output_type": "display_data"
    }
   ],
   "source": [
    "#The plotting\n",
    "angles = np.linspace(0, 2 * np.pi, 24, endpoint=False) #deler opp sirkel (2*pi) i 24 like store deler\n",
    "fig, ax = plt.subplots(figsize=(6,6), subplot_kw={'projection': 'polar'})\n",
    "\n",
    "i=0\n",
    "for lot_avg in parkinglots_avg_2018:\n",
    "    bars = ax.bar(angles, parkinglots_avg_2018[i].values, width=0.25, color=colors[i], alpha=0.3) #alpha styrer gjennomsiktighetsgraden\n",
    "    i += 1\n",
    "\n",
    "# Optional: Customize\n",
    "ax.set_theta_zero_location(\"N\")  # 12 o'clock starts at top\n",
    "ax.set_theta_direction(-1)       # Clockwise\n",
    "ax.set_title(\"Average Parking Lot Occupancy by Hour in 2018\", va='bottom')\n",
    "\n",
    "plt.show()"
   ]
  },
  {
   "cell_type": "markdown",
   "id": "3420218e",
   "metadata": {},
   "source": [
    "### The same, just in plotly\n",
    "\n",
    "**Note:** Plotly express does not support multiple traces (graphs) in the same figure. For that we need to use Plotly Graph Objects."
   ]
  },
  {
   "cell_type": "code",
   "execution_count": null,
   "id": "5e8b35dc",
   "metadata": {},
   "outputs": [
    {
     "data": {
      "application/vnd.plotly.v1+json": {
       "config": {
        "plotlyServerURL": "https://plot.ly"
       },
       "data": [
        {
         "hovertemplate": "r=%{r}<br>theta=%{theta}<br>color=%{marker.color}<extra></extra>",
         "legendgroup": "",
         "marker": {
          "opacity": 0.4
         },
         "name": "",
         "r": {
          "bdata": "RI3IPVcTTz73uVk+PyxSPvnNPT6uPjU+cWspPm5oJj5ghVM+PluGPhIEgD7+A8Y9fvRcPtNIPz61aRI+bv/QPR9vzT1Busc9u63IPSsoxz0Kfcg9TbnhPf/HAj6pLy8+",
          "dtype": "f4"
         },
         "showlegend": false,
         "subplot": "polar",
         "theta": {
          "bdata": "AAAAAAAAAAAAAAAAAAAuQAAAAAAAAD5AAAAAAACARkAAAAAAAABOQAAAAAAAwFJAAAAAAACAVkAAAAAAAEBaQAAAAAAAAF5AAAAAAADgYEAAAAAAAMBiQAAAAAAAoGRAAAAAAACAZkAAAAAAAGBoQAAAAAAAQGpAAAAAAAAgbEAAAAAAAABuQAAAAAAA4G9AAAAAAADgcEAAAAAAANBxQAAAAAAAwHJAAAAAAACwc0AAAAAAAKB0QAAAAAAAkHVA",
          "dtype": "f8"
         },
         "type": "barpolar"
        }
       ],
       "layout": {
        "barmode": "relative",
        "coloraxis": {
         "colorbar": {
          "title": {
           "text": "color"
          }
         },
         "colorscale": [
          [
           0,
           "#0d0887"
          ],
          [
           0.1111111111111111,
           "#46039f"
          ],
          [
           0.2222222222222222,
           "#7201a8"
          ],
          [
           0.3333333333333333,
           "#9c179e"
          ],
          [
           0.4444444444444444,
           "#bd3786"
          ],
          [
           0.5555555555555556,
           "#d8576b"
          ],
          [
           0.6666666666666666,
           "#ed7953"
          ],
          [
           0.7777777777777778,
           "#fb9f3a"
          ],
          [
           0.8888888888888888,
           "#fdca26"
          ],
          [
           1,
           "#f0f921"
          ]
         ]
        },
        "legend": {
         "tracegroupgap": 0
        },
        "margin": {
         "t": 60
        },
        "polar": {
         "angularaxis": {
          "direction": "clockwise",
          "rotation": 90
         },
         "domain": {
          "x": [
           0,
           1
          ],
          "y": [
           0,
           1
          ]
         }
        },
        "template": {
         "data": {
          "bar": [
           {
            "error_x": {
             "color": "#2a3f5f"
            },
            "error_y": {
             "color": "#2a3f5f"
            },
            "marker": {
             "line": {
              "color": "#E5ECF6",
              "width": 0.5
             },
             "pattern": {
              "fillmode": "overlay",
              "size": 10,
              "solidity": 0.2
             }
            },
            "type": "bar"
           }
          ],
          "barpolar": [
           {
            "marker": {
             "line": {
              "color": "#E5ECF6",
              "width": 0.5
             },
             "pattern": {
              "fillmode": "overlay",
              "size": 10,
              "solidity": 0.2
             }
            },
            "type": "barpolar"
           }
          ],
          "carpet": [
           {
            "aaxis": {
             "endlinecolor": "#2a3f5f",
             "gridcolor": "white",
             "linecolor": "white",
             "minorgridcolor": "white",
             "startlinecolor": "#2a3f5f"
            },
            "baxis": {
             "endlinecolor": "#2a3f5f",
             "gridcolor": "white",
             "linecolor": "white",
             "minorgridcolor": "white",
             "startlinecolor": "#2a3f5f"
            },
            "type": "carpet"
           }
          ],
          "choropleth": [
           {
            "colorbar": {
             "outlinewidth": 0,
             "ticks": ""
            },
            "type": "choropleth"
           }
          ],
          "contour": [
           {
            "colorbar": {
             "outlinewidth": 0,
             "ticks": ""
            },
            "colorscale": [
             [
              0,
              "#0d0887"
             ],
             [
              0.1111111111111111,
              "#46039f"
             ],
             [
              0.2222222222222222,
              "#7201a8"
             ],
             [
              0.3333333333333333,
              "#9c179e"
             ],
             [
              0.4444444444444444,
              "#bd3786"
             ],
             [
              0.5555555555555556,
              "#d8576b"
             ],
             [
              0.6666666666666666,
              "#ed7953"
             ],
             [
              0.7777777777777778,
              "#fb9f3a"
             ],
             [
              0.8888888888888888,
              "#fdca26"
             ],
             [
              1,
              "#f0f921"
             ]
            ],
            "type": "contour"
           }
          ],
          "contourcarpet": [
           {
            "colorbar": {
             "outlinewidth": 0,
             "ticks": ""
            },
            "type": "contourcarpet"
           }
          ],
          "heatmap": [
           {
            "colorbar": {
             "outlinewidth": 0,
             "ticks": ""
            },
            "colorscale": [
             [
              0,
              "#0d0887"
             ],
             [
              0.1111111111111111,
              "#46039f"
             ],
             [
              0.2222222222222222,
              "#7201a8"
             ],
             [
              0.3333333333333333,
              "#9c179e"
             ],
             [
              0.4444444444444444,
              "#bd3786"
             ],
             [
              0.5555555555555556,
              "#d8576b"
             ],
             [
              0.6666666666666666,
              "#ed7953"
             ],
             [
              0.7777777777777778,
              "#fb9f3a"
             ],
             [
              0.8888888888888888,
              "#fdca26"
             ],
             [
              1,
              "#f0f921"
             ]
            ],
            "type": "heatmap"
           }
          ],
          "histogram": [
           {
            "marker": {
             "pattern": {
              "fillmode": "overlay",
              "size": 10,
              "solidity": 0.2
             }
            },
            "type": "histogram"
           }
          ],
          "histogram2d": [
           {
            "colorbar": {
             "outlinewidth": 0,
             "ticks": ""
            },
            "colorscale": [
             [
              0,
              "#0d0887"
             ],
             [
              0.1111111111111111,
              "#46039f"
             ],
             [
              0.2222222222222222,
              "#7201a8"
             ],
             [
              0.3333333333333333,
              "#9c179e"
             ],
             [
              0.4444444444444444,
              "#bd3786"
             ],
             [
              0.5555555555555556,
              "#d8576b"
             ],
             [
              0.6666666666666666,
              "#ed7953"
             ],
             [
              0.7777777777777778,
              "#fb9f3a"
             ],
             [
              0.8888888888888888,
              "#fdca26"
             ],
             [
              1,
              "#f0f921"
             ]
            ],
            "type": "histogram2d"
           }
          ],
          "histogram2dcontour": [
           {
            "colorbar": {
             "outlinewidth": 0,
             "ticks": ""
            },
            "colorscale": [
             [
              0,
              "#0d0887"
             ],
             [
              0.1111111111111111,
              "#46039f"
             ],
             [
              0.2222222222222222,
              "#7201a8"
             ],
             [
              0.3333333333333333,
              "#9c179e"
             ],
             [
              0.4444444444444444,
              "#bd3786"
             ],
             [
              0.5555555555555556,
              "#d8576b"
             ],
             [
              0.6666666666666666,
              "#ed7953"
             ],
             [
              0.7777777777777778,
              "#fb9f3a"
             ],
             [
              0.8888888888888888,
              "#fdca26"
             ],
             [
              1,
              "#f0f921"
             ]
            ],
            "type": "histogram2dcontour"
           }
          ],
          "mesh3d": [
           {
            "colorbar": {
             "outlinewidth": 0,
             "ticks": ""
            },
            "type": "mesh3d"
           }
          ],
          "parcoords": [
           {
            "line": {
             "colorbar": {
              "outlinewidth": 0,
              "ticks": ""
             }
            },
            "type": "parcoords"
           }
          ],
          "pie": [
           {
            "automargin": true,
            "type": "pie"
           }
          ],
          "scatter": [
           {
            "fillpattern": {
             "fillmode": "overlay",
             "size": 10,
             "solidity": 0.2
            },
            "type": "scatter"
           }
          ],
          "scatter3d": [
           {
            "line": {
             "colorbar": {
              "outlinewidth": 0,
              "ticks": ""
             }
            },
            "marker": {
             "colorbar": {
              "outlinewidth": 0,
              "ticks": ""
             }
            },
            "type": "scatter3d"
           }
          ],
          "scattercarpet": [
           {
            "marker": {
             "colorbar": {
              "outlinewidth": 0,
              "ticks": ""
             }
            },
            "type": "scattercarpet"
           }
          ],
          "scattergeo": [
           {
            "marker": {
             "colorbar": {
              "outlinewidth": 0,
              "ticks": ""
             }
            },
            "type": "scattergeo"
           }
          ],
          "scattergl": [
           {
            "marker": {
             "colorbar": {
              "outlinewidth": 0,
              "ticks": ""
             }
            },
            "type": "scattergl"
           }
          ],
          "scattermap": [
           {
            "marker": {
             "colorbar": {
              "outlinewidth": 0,
              "ticks": ""
             }
            },
            "type": "scattermap"
           }
          ],
          "scattermapbox": [
           {
            "marker": {
             "colorbar": {
              "outlinewidth": 0,
              "ticks": ""
             }
            },
            "type": "scattermapbox"
           }
          ],
          "scatterpolar": [
           {
            "marker": {
             "colorbar": {
              "outlinewidth": 0,
              "ticks": ""
             }
            },
            "type": "scatterpolar"
           }
          ],
          "scatterpolargl": [
           {
            "marker": {
             "colorbar": {
              "outlinewidth": 0,
              "ticks": ""
             }
            },
            "type": "scatterpolargl"
           }
          ],
          "scatterternary": [
           {
            "marker": {
             "colorbar": {
              "outlinewidth": 0,
              "ticks": ""
             }
            },
            "type": "scatterternary"
           }
          ],
          "surface": [
           {
            "colorbar": {
             "outlinewidth": 0,
             "ticks": ""
            },
            "colorscale": [
             [
              0,
              "#0d0887"
             ],
             [
              0.1111111111111111,
              "#46039f"
             ],
             [
              0.2222222222222222,
              "#7201a8"
             ],
             [
              0.3333333333333333,
              "#9c179e"
             ],
             [
              0.4444444444444444,
              "#bd3786"
             ],
             [
              0.5555555555555556,
              "#d8576b"
             ],
             [
              0.6666666666666666,
              "#ed7953"
             ],
             [
              0.7777777777777778,
              "#fb9f3a"
             ],
             [
              0.8888888888888888,
              "#fdca26"
             ],
             [
              1,
              "#f0f921"
             ]
            ],
            "type": "surface"
           }
          ],
          "table": [
           {
            "cells": {
             "fill": {
              "color": "#EBF0F8"
             },
             "line": {
              "color": "white"
             }
            },
            "header": {
             "fill": {
              "color": "#C8D4E3"
             },
             "line": {
              "color": "white"
             }
            },
            "type": "table"
           }
          ]
         },
         "layout": {
          "annotationdefaults": {
           "arrowcolor": "#2a3f5f",
           "arrowhead": 0,
           "arrowwidth": 1
          },
          "autotypenumbers": "strict",
          "coloraxis": {
           "colorbar": {
            "outlinewidth": 0,
            "ticks": ""
           }
          },
          "colorscale": {
           "diverging": [
            [
             0,
             "#8e0152"
            ],
            [
             0.1,
             "#c51b7d"
            ],
            [
             0.2,
             "#de77ae"
            ],
            [
             0.3,
             "#f1b6da"
            ],
            [
             0.4,
             "#fde0ef"
            ],
            [
             0.5,
             "#f7f7f7"
            ],
            [
             0.6,
             "#e6f5d0"
            ],
            [
             0.7,
             "#b8e186"
            ],
            [
             0.8,
             "#7fbc41"
            ],
            [
             0.9,
             "#4d9221"
            ],
            [
             1,
             "#276419"
            ]
           ],
           "sequential": [
            [
             0,
             "#0d0887"
            ],
            [
             0.1111111111111111,
             "#46039f"
            ],
            [
             0.2222222222222222,
             "#7201a8"
            ],
            [
             0.3333333333333333,
             "#9c179e"
            ],
            [
             0.4444444444444444,
             "#bd3786"
            ],
            [
             0.5555555555555556,
             "#d8576b"
            ],
            [
             0.6666666666666666,
             "#ed7953"
            ],
            [
             0.7777777777777778,
             "#fb9f3a"
            ],
            [
             0.8888888888888888,
             "#fdca26"
            ],
            [
             1,
             "#f0f921"
            ]
           ],
           "sequentialminus": [
            [
             0,
             "#0d0887"
            ],
            [
             0.1111111111111111,
             "#46039f"
            ],
            [
             0.2222222222222222,
             "#7201a8"
            ],
            [
             0.3333333333333333,
             "#9c179e"
            ],
            [
             0.4444444444444444,
             "#bd3786"
            ],
            [
             0.5555555555555556,
             "#d8576b"
            ],
            [
             0.6666666666666666,
             "#ed7953"
            ],
            [
             0.7777777777777778,
             "#fb9f3a"
            ],
            [
             0.8888888888888888,
             "#fdca26"
            ],
            [
             1,
             "#f0f921"
            ]
           ]
          },
          "colorway": [
           "#636efa",
           "#EF553B",
           "#00cc96",
           "#ab63fa",
           "#FFA15A",
           "#19d3f3",
           "#FF6692",
           "#B6E880",
           "#FF97FF",
           "#FECB52"
          ],
          "font": {
           "color": "#2a3f5f"
          },
          "geo": {
           "bgcolor": "white",
           "lakecolor": "white",
           "landcolor": "#E5ECF6",
           "showlakes": true,
           "showland": true,
           "subunitcolor": "white"
          },
          "hoverlabel": {
           "align": "left"
          },
          "hovermode": "closest",
          "mapbox": {
           "style": "light"
          },
          "paper_bgcolor": "white",
          "plot_bgcolor": "#E5ECF6",
          "polar": {
           "angularaxis": {
            "gridcolor": "white",
            "linecolor": "white",
            "ticks": ""
           },
           "bgcolor": "#E5ECF6",
           "radialaxis": {
            "gridcolor": "white",
            "linecolor": "white",
            "ticks": ""
           }
          },
          "scene": {
           "xaxis": {
            "backgroundcolor": "#E5ECF6",
            "gridcolor": "white",
            "gridwidth": 2,
            "linecolor": "white",
            "showbackground": true,
            "ticks": "",
            "zerolinecolor": "white"
           },
           "yaxis": {
            "backgroundcolor": "#E5ECF6",
            "gridcolor": "white",
            "gridwidth": 2,
            "linecolor": "white",
            "showbackground": true,
            "ticks": "",
            "zerolinecolor": "white"
           },
           "zaxis": {
            "backgroundcolor": "#E5ECF6",
            "gridcolor": "white",
            "gridwidth": 2,
            "linecolor": "white",
            "showbackground": true,
            "ticks": "",
            "zerolinecolor": "white"
           }
          },
          "shapedefaults": {
           "line": {
            "color": "#2a3f5f"
           }
          },
          "ternary": {
           "aaxis": {
            "gridcolor": "white",
            "linecolor": "white",
            "ticks": ""
           },
           "baxis": {
            "gridcolor": "white",
            "linecolor": "white",
            "ticks": ""
           },
           "bgcolor": "#E5ECF6",
           "caxis": {
            "gridcolor": "white",
            "linecolor": "white",
            "ticks": ""
           }
          },
          "title": {
           "x": 0.05
          },
          "xaxis": {
           "automargin": true,
           "gridcolor": "white",
           "linecolor": "white",
           "ticks": "",
           "title": {
            "standoff": 15
           },
           "zerolinecolor": "white",
           "zerolinewidth": 2
          },
          "yaxis": {
           "automargin": true,
           "gridcolor": "white",
           "linecolor": "white",
           "ticks": "",
           "title": {
            "standoff": 15
           },
           "zerolinecolor": "white",
           "zerolinewidth": 2
          }
         }
        }
       }
      }
     },
     "metadata": {},
     "output_type": "display_data"
    }
   ],
   "source": [
    "angles360 = np.linspace(0, 360, 24, endpoint=False) #deler opp sirkel (360) i 24 like store deler\n",
    "\n",
    "fig = px.bar_polar(\n",
    "    parkering2018,\n",
    "    r = parkering2018.groupby('Tid')['Siddis'].mean().values,\n",
    "    theta = angles360, \n",
    "    color=parkering2018.groupby('Tid')['Siddis'].mean().values\n",
    ")\n",
    "\n",
    "fig.update_traces(overwrite=True, marker={\"opacity\": 0.4})\n",
    "\n",
    "fig.show()"
   ]
  },
  {
   "cell_type": "markdown",
   "id": "c60269ea",
   "metadata": {},
   "source": [
    "## 2017 vs 2018"
   ]
  },
  {
   "cell_type": "code",
   "execution_count": null,
   "id": "6d3a5fde",
   "metadata": {},
   "outputs": [
    {
     "data": {
      "text/html": [
       "<div>\n",
       "<style scoped>\n",
       "    .dataframe tbody tr th:only-of-type {\n",
       "        vertical-align: middle;\n",
       "    }\n",
       "\n",
       "    .dataframe tbody tr th {\n",
       "        vertical-align: top;\n",
       "    }\n",
       "\n",
       "    .dataframe thead th {\n",
       "        text-align: right;\n",
       "    }\n",
       "</style>\n",
       "<table border=\"1\" class=\"dataframe\">\n",
       "  <thead>\n",
       "    <tr style=\"text-align: right;\">\n",
       "      <th></th>\n",
       "      <th>Dato</th>\n",
       "      <th>Tid</th>\n",
       "      <th>Siddis</th>\n",
       "      <th>Forum</th>\n",
       "      <th>Jernbanen</th>\n",
       "      <th>Posten</th>\n",
       "      <th>Jorenholmen</th>\n",
       "      <th>St. Olav</th>\n",
       "      <th>Valberget</th>\n",
       "      <th>Kyrre</th>\n",
       "      <th>Parketten</th>\n",
       "      <th>Tidspunkt</th>\n",
       "    </tr>\n",
       "  </thead>\n",
       "  <tbody>\n",
       "    <tr>\n",
       "      <th>0</th>\n",
       "      <td>[1, jan, 18]</td>\n",
       "      <td>0:00</td>\n",
       "      <td>0.03</td>\n",
       "      <td>0.0</td>\n",
       "      <td>0.19</td>\n",
       "      <td>0.11</td>\n",
       "      <td>0.17</td>\n",
       "      <td>0.22</td>\n",
       "      <td>0.12</td>\n",
       "      <td>0.14</td>\n",
       "      <td>0.13</td>\n",
       "      <td>2018-01-01 00:00:00</td>\n",
       "    </tr>\n",
       "    <tr>\n",
       "      <th>1</th>\n",
       "      <td>[1, jan, 18]</td>\n",
       "      <td>1:00</td>\n",
       "      <td>0.03</td>\n",
       "      <td>0.0</td>\n",
       "      <td>0.18</td>\n",
       "      <td>0.05</td>\n",
       "      <td>0.14</td>\n",
       "      <td>0.21</td>\n",
       "      <td>0.10</td>\n",
       "      <td>0.15</td>\n",
       "      <td>0.13</td>\n",
       "      <td>2018-01-01 01:00:00</td>\n",
       "    </tr>\n",
       "    <tr>\n",
       "      <th>2</th>\n",
       "      <td>[1, jan, 18]</td>\n",
       "      <td>2:00</td>\n",
       "      <td>0.02</td>\n",
       "      <td>0.0</td>\n",
       "      <td>0.17</td>\n",
       "      <td>0.06</td>\n",
       "      <td>0.15</td>\n",
       "      <td>0.21</td>\n",
       "      <td>0.06</td>\n",
       "      <td>0.15</td>\n",
       "      <td>0.04</td>\n",
       "      <td>2018-01-01 02:00:00</td>\n",
       "    </tr>\n",
       "    <tr>\n",
       "      <th>3</th>\n",
       "      <td>[1, jan, 18]</td>\n",
       "      <td>3:00</td>\n",
       "      <td>0.02</td>\n",
       "      <td>0.0</td>\n",
       "      <td>0.17</td>\n",
       "      <td>0.05</td>\n",
       "      <td>0.15</td>\n",
       "      <td>0.21</td>\n",
       "      <td>0.06</td>\n",
       "      <td>0.15</td>\n",
       "      <td>0.03</td>\n",
       "      <td>2018-01-01 03:00:00</td>\n",
       "    </tr>\n",
       "    <tr>\n",
       "      <th>4</th>\n",
       "      <td>[1, jan, 18]</td>\n",
       "      <td>4:00</td>\n",
       "      <td>0.02</td>\n",
       "      <td>0.0</td>\n",
       "      <td>0.17</td>\n",
       "      <td>0.05</td>\n",
       "      <td>0.15</td>\n",
       "      <td>0.21</td>\n",
       "      <td>0.06</td>\n",
       "      <td>0.15</td>\n",
       "      <td>0.03</td>\n",
       "      <td>2018-01-01 04:00:00</td>\n",
       "    </tr>\n",
       "  </tbody>\n",
       "</table>\n",
       "</div>"
      ],
      "text/plain": [
       "           Dato   Tid  Siddis  Forum  Jernbanen  Posten  Jorenholmen  \\\n",
       "0  [1, jan, 18]  0:00    0.03    0.0       0.19    0.11         0.17   \n",
       "1  [1, jan, 18]  1:00    0.03    0.0       0.18    0.05         0.14   \n",
       "2  [1, jan, 18]  2:00    0.02    0.0       0.17    0.06         0.15   \n",
       "3  [1, jan, 18]  3:00    0.02    0.0       0.17    0.05         0.15   \n",
       "4  [1, jan, 18]  4:00    0.02    0.0       0.17    0.05         0.15   \n",
       "\n",
       "   St. Olav  Valberget  Kyrre  Parketten           Tidspunkt  \n",
       "0      0.22       0.12   0.14       0.13 2018-01-01 00:00:00  \n",
       "1      0.21       0.10   0.15       0.13 2018-01-01 01:00:00  \n",
       "2      0.21       0.06   0.15       0.04 2018-01-01 02:00:00  \n",
       "3      0.21       0.06   0.15       0.03 2018-01-01 03:00:00  \n",
       "4      0.21       0.06   0.15       0.03 2018-01-01 04:00:00  "
      ]
     },
     "execution_count": 293,
     "metadata": {},
     "output_type": "execute_result"
    }
   ],
   "source": [
    "parkering2018.head()"
   ]
  },
  {
   "cell_type": "code",
   "execution_count": null,
   "id": "cb277292",
   "metadata": {},
   "outputs": [
    {
     "data": {
      "text/html": [
       "<div>\n",
       "<style scoped>\n",
       "    .dataframe tbody tr th:only-of-type {\n",
       "        vertical-align: middle;\n",
       "    }\n",
       "\n",
       "    .dataframe tbody tr th {\n",
       "        vertical-align: top;\n",
       "    }\n",
       "\n",
       "    .dataframe thead th {\n",
       "        text-align: right;\n",
       "    }\n",
       "</style>\n",
       "<table border=\"1\" class=\"dataframe\">\n",
       "  <thead>\n",
       "    <tr style=\"text-align: right;\">\n",
       "      <th></th>\n",
       "      <th>Dato</th>\n",
       "      <th>Tid</th>\n",
       "      <th>Siddis</th>\n",
       "      <th>Forum</th>\n",
       "      <th>Jernbanen</th>\n",
       "      <th>Posten</th>\n",
       "      <th>Jorenholmen</th>\n",
       "      <th>St. Olav</th>\n",
       "      <th>Valberget</th>\n",
       "      <th>Kyrre</th>\n",
       "      <th>Parketten</th>\n",
       "      <th>Tidspunkt</th>\n",
       "    </tr>\n",
       "  </thead>\n",
       "  <tbody>\n",
       "    <tr>\n",
       "      <th>0</th>\n",
       "      <td>[1, jan, 17]</td>\n",
       "      <td>0:00</td>\n",
       "      <td>0.02</td>\n",
       "      <td>0.0</td>\n",
       "      <td>0.16</td>\n",
       "      <td>0.15</td>\n",
       "      <td>0.15</td>\n",
       "      <td>0.21</td>\n",
       "      <td>0.08</td>\n",
       "      <td>0.18</td>\n",
       "      <td>0.04</td>\n",
       "      <td>2017-01-01 00:00:00</td>\n",
       "    </tr>\n",
       "    <tr>\n",
       "      <th>1</th>\n",
       "      <td>[1, jan, 17]</td>\n",
       "      <td>1:00</td>\n",
       "      <td>0.02</td>\n",
       "      <td>0.0</td>\n",
       "      <td>0.11</td>\n",
       "      <td>0.06</td>\n",
       "      <td>0.12</td>\n",
       "      <td>0.19</td>\n",
       "      <td>0.07</td>\n",
       "      <td>0.17</td>\n",
       "      <td>0.04</td>\n",
       "      <td>2017-01-01 01:00:00</td>\n",
       "    </tr>\n",
       "    <tr>\n",
       "      <th>2</th>\n",
       "      <td>[1, jan, 17]</td>\n",
       "      <td>2:00</td>\n",
       "      <td>0.02</td>\n",
       "      <td>0.0</td>\n",
       "      <td>0.11</td>\n",
       "      <td>0.04</td>\n",
       "      <td>0.12</td>\n",
       "      <td>0.18</td>\n",
       "      <td>0.06</td>\n",
       "      <td>0.18</td>\n",
       "      <td>0.04</td>\n",
       "      <td>2017-01-01 02:00:00</td>\n",
       "    </tr>\n",
       "    <tr>\n",
       "      <th>3</th>\n",
       "      <td>[1, jan, 17]</td>\n",
       "      <td>3:00</td>\n",
       "      <td>0.02</td>\n",
       "      <td>0.0</td>\n",
       "      <td>0.11</td>\n",
       "      <td>0.03</td>\n",
       "      <td>0.12</td>\n",
       "      <td>0.18</td>\n",
       "      <td>0.06</td>\n",
       "      <td>0.17</td>\n",
       "      <td>0.04</td>\n",
       "      <td>2017-01-01 03:00:00</td>\n",
       "    </tr>\n",
       "    <tr>\n",
       "      <th>4</th>\n",
       "      <td>[1, jan, 17]</td>\n",
       "      <td>4:00</td>\n",
       "      <td>0.02</td>\n",
       "      <td>0.0</td>\n",
       "      <td>0.11</td>\n",
       "      <td>0.02</td>\n",
       "      <td>0.12</td>\n",
       "      <td>0.17</td>\n",
       "      <td>0.05</td>\n",
       "      <td>0.17</td>\n",
       "      <td>0.04</td>\n",
       "      <td>2017-01-01 04:00:00</td>\n",
       "    </tr>\n",
       "  </tbody>\n",
       "</table>\n",
       "</div>"
      ],
      "text/plain": [
       "           Dato   Tid  Siddis  Forum  Jernbanen  Posten  Jorenholmen  \\\n",
       "0  [1, jan, 17]  0:00    0.02    0.0       0.16    0.15         0.15   \n",
       "1  [1, jan, 17]  1:00    0.02    0.0       0.11    0.06         0.12   \n",
       "2  [1, jan, 17]  2:00    0.02    0.0       0.11    0.04         0.12   \n",
       "3  [1, jan, 17]  3:00    0.02    0.0       0.11    0.03         0.12   \n",
       "4  [1, jan, 17]  4:00    0.02    0.0       0.11    0.02         0.12   \n",
       "\n",
       "   St. Olav  Valberget  Kyrre  Parketten           Tidspunkt  \n",
       "0      0.21       0.08   0.18       0.04 2017-01-01 00:00:00  \n",
       "1      0.19       0.07   0.17       0.04 2017-01-01 01:00:00  \n",
       "2      0.18       0.06   0.18       0.04 2017-01-01 02:00:00  \n",
       "3      0.18       0.06   0.17       0.04 2017-01-01 03:00:00  \n",
       "4      0.17       0.05   0.17       0.04 2017-01-01 04:00:00  "
      ]
     },
     "execution_count": 294,
     "metadata": {},
     "output_type": "execute_result"
    }
   ],
   "source": [
    "parkering2017.head()"
   ]
  },
  {
   "cell_type": "code",
   "execution_count": null,
   "id": "ec203aa3",
   "metadata": {},
   "outputs": [],
   "source": [
    "jan2017 = parkering2017[ parkering2017['Tidspunkt'].dt.month == 1]"
   ]
  },
  {
   "cell_type": "code",
   "execution_count": null,
   "id": "0c6d4433",
   "metadata": {},
   "outputs": [
    {
     "data": {
      "image/png": "[encoded data removed]",
      "text/plain": [
       "<Figure size 1000x600 with 1 Axes>"
      ]
     },
     "metadata": {},
     "output_type": "display_data"
    }
   ],
   "source": [
    "x1 = jan2017['Tidspunkt']\n",
    "x2 = parkering2018['Tidspunkt']\n",
    "\n",
    "y1 = jan2017['Siddis']\n",
    "y2 = parkering2018['Siddis']\n",
    "\n",
    "fig, ax = plt.subplots(figsize=(10,6))\n",
    "\n",
    "ax.plot(x1,y1,'b')\n",
    "# ax.plot(x2,y2,'b')\n",
    "\n",
    "plt.show()"
   ]
  },
  {
   "cell_type": "markdown",
   "id": "7be42ffb",
   "metadata": {},
   "source": [
    "## Siddis 2017 vs 2018"
   ]
  },
  {
   "cell_type": "code",
   "execution_count": null,
   "id": "b18d30b3",
   "metadata": {},
   "outputs": [],
   "source": [
    "Siddis_hour_average_2017 = parkering2017.groupby('Tid')['Siddis'].mean().values\n",
    "Siddis_hour_average_2018 = parkering2018.groupby('Tid')['Siddis'].mean()"
   ]
  },
  {
   "cell_type": "code",
   "execution_count": null,
   "id": "6e780130",
   "metadata": {},
   "outputs": [
    {
     "data": {
      "image/png": "[encoded data removed]",
      "text/plain": [
       "<Figure size 400x400 with 1 Axes>"
      ]
     },
     "metadata": {},
     "output_type": "display_data"
    }
   ],
   "source": [
    "#The plotting\n",
    "fig, ax = plt.subplots(figsize=(4,4), subplot_kw={'projection': 'polar'})\n",
    "\n",
    "bars = ax.bar(angles, Siddis_hour_average_2017, width=0.25, color=colors[1], alpha=0.3, label='2017') #alpha styrer gjennomsiktighetsgraden\n",
    "bars = ax.bar(angles, Siddis_hour_average_2018, width=0.25, color=colors[2], alpha=0.3, label ='2018') #alpha styrer gjennomsiktighetsgraden\n",
    "\n",
    "ax.legend(loc='upper left')\n",
    "\n",
    "# Optional: Customize\n",
    "ax.set_theta_zero_location(\"N\")  # 12 o'clock starts at top\n",
    "ax.set_theta_direction(-1)       # Clockwise\n",
    "ax.set_title(\"Average Siddis Occupancy by Hour in 2017\", va='bottom')\n",
    "\n",
    "plt.show()"
   ]
  }
 ],
 "metadata": {
  "kernelspec": {
   "display_name": ".venv",
   "language": "python",
   "name": "python3"
  },
  "language_info": {
   "codemirror_mode": {
    "name": "ipython",
    "version": 3
   },
   "file_extension": ".py",
   "mimetype": "text/x-python",
   "name": "python",
   "nbconvert_exporter": "python",
   "pygments_lexer": "ipython3",
   "version": "3.13.3"
  }
 },
 "nbformat": 4,
 "nbformat_minor": 5
}
